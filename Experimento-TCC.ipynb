{
 "cells": [
  {
   "cell_type": "code",
   "execution_count": 12,
   "id": "cbb4aac2",
   "metadata": {
    "scrolled": true
   },
   "outputs": [],
   "source": [
    "# Importa as bibliotecas de uso geral\n",
    "import pandas as pd\n",
    "import numpy as np"
   ]
  },
  {
   "cell_type": "code",
   "execution_count": 13,
   "id": "7546d5ef",
   "metadata": {},
   "outputs": [],
   "source": [
    "# Carrega o conjunto de dados e realiza o pré-processamento\n",
    "from pre_processamento import Bankruptcy\n",
    "\n",
    "# Instancia a classe Bankruptcy \n",
    "bankruptcy = Bankruptcy()\n",
    "# Realiza o pré-processamento dos dados\n",
    "bankruptcy.basic_preprocessing()"
   ]
  },
  {
   "cell_type": "code",
   "execution_count": 14,
   "id": "3e2b9c33",
   "metadata": {},
   "outputs": [],
   "source": [
    "# Instancia a classe responsável pelo pré-processamento\n",
    "from executa_experimento import ExecutaExperimento\n",
    "# Recupera a configuração dos classificadores utilizados\n",
    "from settings import set_configs\n",
    "\n",
    "''' Instancia a classe responsável pelo pré-processamento\n",
    "set configs # configurações dos classificadores selecionados\n",
    "n = 10 # número utilizado na validação cruzada, vai gerar 10 partições\n",
    "nome_experimento = exp1 # nome do arquivo com os resultados do experimento\n",
    "'''\n",
    "experimento = ExecutaExperimento(set_configs, n=5, nome_experimento='exp1')"
   ]
  },
  {
   "cell_type": "code",
   "execution_count": null,
   "id": "5669db83",
   "metadata": {},
   "outputs": [
    {
     "name": "stdout",
     "output_type": "stream",
     "text": [
      "Fold 3/5 | Classificador 63/441 (AD)\n"
     ]
    }
   ],
   "source": [
    "# separa o dataset em X e y\n",
    "X, y = bankruptcy.get_xy()\n",
    "# se for usar o  SelectionKBest para diminuir o número de atributos, liberar esse código\n",
    "#\n",
    "#\n",
    "#\n",
    "# executa o experimento\n",
    "experimento.executa(X, y)"
   ]
  },
  {
   "cell_type": "code",
   "execution_count": null,
   "id": "454ddc2d-334f-46ad-ab7a-40208f633cb1",
   "metadata": {},
   "outputs": [],
   "source": []
  },
  {
   "cell_type": "code",
   "execution_count": null,
   "id": "fe234ecc-3011-462f-b40d-b2d426490e9e",
   "metadata": {},
   "outputs": [],
   "source": []
  }
 ],
 "metadata": {
  "kernelspec": {
   "display_name": "Python [conda env:base] *",
   "language": "python",
   "name": "conda-base-py"
  },
  "language_info": {
   "codemirror_mode": {
    "name": "ipython",
    "version": 3
   },
   "file_extension": ".py",
   "mimetype": "text/x-python",
   "name": "python",
   "nbconvert_exporter": "python",
   "pygments_lexer": "ipython3",
   "version": "3.12.7"
  }
 },
 "nbformat": 4,
 "nbformat_minor": 5
}
